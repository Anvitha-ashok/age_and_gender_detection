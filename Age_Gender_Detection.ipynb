{
 "cells": [
  {
   "cell_type": "code",
   "execution_count": 1,
   "id": "9af16048-a570-4e64-a4c3-f4fd073d228f",
   "metadata": {},
   "outputs": [
    {
     "name": "stdout",
     "output_type": "stream",
     "text": [
      "Requirement already satisfied: opencv-python-headless in c:\\users\\admin\\anaconda3\\lib\\site-packages (4.10.0.84)\n",
      "Requirement already satisfied: numpy>=1.21.2 in c:\\users\\admin\\appdata\\roaming\\python\\python312\\site-packages (from opencv-python-headless) (1.26.4)\n"
     ]
    },
    {
     "name": "stderr",
     "output_type": "stream",
     "text": [
      "\n",
      "[notice] A new release of pip is available: 25.0.1 -> 25.1.1\n",
      "[notice] To update, run: python.exe -m pip install --upgrade pip\n"
     ]
    }
   ],
   "source": [
    "#Step 1: Install Required Libraries\n",
    "\n",
    "!pip install opencv-python-headless\n"
   ]
  },
  {
   "cell_type": "code",
   "execution_count": 3,
   "id": "11ad52a7-df7e-4f25-9fef-0e5aa085161e",
   "metadata": {},
   "outputs": [],
   "source": [
    "#Import Libraries\n",
    "\n",
    "import cv2\n",
    "import numpy as np\n",
    "import requests\n"
   ]
  },
  {
   "cell_type": "code",
   "execution_count": 5,
   "id": "197d9d79-7e40-4bf5-901c-5628ae96c2b8",
   "metadata": {},
   "outputs": [],
   "source": [
    "# Define URLs for the pre-trained models\n",
    "\n",
    "age_model = \"https://www.dropbox.com/scl/fi/eva2roklpqn0lh52mk5j2/Copy-age_net.caffemodel?rlkey=nt9d615zw0tupmqsrgit635y5&st=cdrdqk63&dl=0\"\n",
    "age_proto = \"age_deploy.prototxt\"\n",
    "gender_model = \"https://www.dropbox.com/scl/fi/ynm8706p7mf1kvyj3ppf3/gender_net.caffemodel?rlkey=c4mjwtr4iuzpstwgeowr7tuk7&st=w4xpdcmf&dl=0\"\n",
    "gender_proto = \"gender_deploy.prototxt\"\n",
    "\n",
    "# Path to OpenCV pre-trained face detector\n",
    "face_model = cv2.CascadeClassifier(cv2.data.haarcascades + \"haarcascade_frontalface_default.xml\")\n"
   ]
  },
  {
   "cell_type": "code",
   "execution_count": 7,
   "id": "426b444a-76d6-49c2-8f8c-b9cf3ad8f71f",
   "metadata": {},
   "outputs": [
    {
     "name": "stderr",
     "output_type": "stream",
     "text": [
      "'wget' is not recognized as an internal or external command,\n",
      "operable program or batch file.\n",
      "'st' is not recognized as an internal or external command,\n",
      "operable program or batch file.\n",
      "'dl' is not recognized as an internal or external command,\n",
      "operable program or batch file.\n",
      "'wget' is not recognized as an internal or external command,\n",
      "operable program or batch file.\n",
      "'wget' is not recognized as an internal or external command,\n",
      "operable program or batch file.\n",
      "'st' is not recognized as an internal or external command,\n",
      "operable program or batch file.\n",
      "'dl' is not recognized as an internal or external command,\n",
      "operable program or batch file.\n",
      "'wget' is not recognized as an internal or external command,\n",
      "operable program or batch file.\n"
     ]
    }
   ],
   "source": [
    "#Download the Models\n",
    "\n",
    "!wget $age_model -O age.caffemodel\n",
    "!wget $age_proto -O age_deploy.prototxt\n",
    "!wget $gender_model -O gender.caffemodel\n",
    "!wget $gender_proto -O gender_deploy.prototxt\n"
   ]
  },
  {
   "cell_type": "code",
   "execution_count": 9,
   "id": "bc5c32ba-88dc-4d2f-8a0e-7bc63248ecf0",
   "metadata": {},
   "outputs": [],
   "source": [
    "# Load age and gender prediction models\n",
    "\n",
    "age_net = cv2.dnn.readNetFromCaffe(\"age_deploy.prototxt\", \"age_net.caffemodel\")\n",
    "gender_net = cv2.dnn.readNetFromCaffe(\"gender_deploy.prototxt\", \"gender_net.caffemodel\")\n"
   ]
  },
  {
   "cell_type": "code",
   "execution_count": 11,
   "id": "cc126ae1-1196-45f9-af2a-d59cd4fdcf4a",
   "metadata": {},
   "outputs": [],
   "source": [
    "# Define the age groups and gender labels\n",
    "\n",
    "age_groups = ['1-5', '6-10', '11-15', '16-20', '21-25', '26-40', '41-60', '61-80', '80-100']\n",
    "gender_labels = ['Male', 'Female']\n"
   ]
  },
  {
   "cell_type": "code",
   "execution_count": 13,
   "id": "dbfac58d-e769-485d-a74f-fa4874f53f44",
   "metadata": {},
   "outputs": [],
   "source": [
    "#Age and Gender Prediction Function\n",
    "\n",
    "def predict_age_gender(face_img):\n",
    "    # Convert the image to blob format to input to the DNN model\n",
    "    blob = cv2.dnn.blobFromImage(face_img, 1.0, (227, 227), (78.42, 87.76, 114.896), swapRB=False)\n",
    "    \n",
    "    # Predict gender\n",
    "    gender_net.setInput(blob)\n",
    "    gender_preds = gender_net.forward()\n",
    "    gender = gender_labels[gender_preds[0].argmax()]\n",
    "    \n",
    "    # Predict age\n",
    "    age_net.setInput(blob)\n",
    "    age_preds = age_net.forward()\n",
    "    age = age_groups[age_preds[0].argmax()]\n",
    "    \n",
    "    return gender, age\n"
   ]
  },
  {
   "cell_type": "code",
   "execution_count": 15,
   "id": "c2fdf780-d838-4948-b6cb-26a52af637d4",
   "metadata": {},
   "outputs": [],
   "source": [
    "# Open webcam for real-time detection\n",
    "\n",
    "cap = cv2.VideoCapture(0)\n",
    "\n",
    "while cap.isOpened():\n",
    "    ret, frame = cap.read()  # Capture frame from webcam\n",
    "    if not ret:\n",
    "        break\n",
    "\n",
    "    gray = cv2.cvtColor(frame, cv2.COLOR_BGR2GRAY)  # Convert to grayscale\n",
    "    faces = face_model.detectMultiScale(gray, scaleFactor=1.3, minNeighbors=5)  # Detect faces\n",
    "\n",
    "    # For each face detected, predict age and gender\n",
    "    for (x, y, w, h) in faces:\n",
    "        face_img = frame[y:y+h, x:x+w]  # Crop the face region\n",
    "        gender, age = predict_age_gender(face_img)  # Get predictions\n",
    "\n",
    "        # Draw rectangle around the face and display age and gender\n",
    "        cv2.rectangle(frame, (x, y), (x+w, y+h), (0, 255, 0), 2)\n",
    "        label = f\"{gender}, {age}\"\n",
    "        cv2.putText(frame, label, (x, y-10), cv2.FONT_HERSHEY_SIMPLEX, 0.7, (255, 0, 0), 2)\n",
    "\n",
    "    # Display the frame with annotations\n",
    "    cv2.imshow(\"Age and Gender Detection\", frame)\n",
    "\n",
    "    # Exit when 'a' is pressed\n",
    "    if cv2.waitKey(1) & 0xFF == ord('a'):\n",
    "        break\n",
    "\n",
    "cap.release()  # Release the webcam\n",
    "cv2.destroyAllWindows()  # Close all OpenCV windows\n"
   ]
  }
 ],
 "metadata": {
  "kernelspec": {
   "display_name": "Python 3 (ipykernel)",
   "language": "python",
   "name": "python3"
  },
  "language_info": {
   "codemirror_mode": {
    "name": "ipython",
    "version": 3
   },
   "file_extension": ".py",
   "mimetype": "text/x-python",
   "name": "python",
   "nbconvert_exporter": "python",
   "pygments_lexer": "ipython3",
   "version": "3.12.7"
  }
 },
 "nbformat": 4,
 "nbformat_minor": 5
}
